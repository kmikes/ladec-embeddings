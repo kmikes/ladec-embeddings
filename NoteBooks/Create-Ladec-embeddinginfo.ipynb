{
 "cells": [
  {
   "cell_type": "code",
   "execution_count": 1,
   "id": "c94ad5b8",
   "metadata": {},
   "outputs": [
    {
     "ename": "ImportError",
     "evalue": "\n\nIMPORTANT: PLEASE READ THIS FOR ADVICE ON HOW TO SOLVE THIS ISSUE!\n\nImporting the numpy C-extensions failed. This error can happen for\nmany reasons, often due to issues with your setup or how NumPy was\ninstalled.\n\nWe have compiled some common reasons and troubleshooting tips at:\n\n    https://numpy.org/devdocs/user/troubleshooting-importerror.html\n\nPlease note and check the following:\n\n  * The Python version is: Python3.6 from \"/Users/Kaija/opt/anaconda3/envs/pythonProject/bin/python\"\n  * The NumPy version is: \"1.19.2\"\n\nand make sure that they are the versions you expect.\nPlease carefully study the documentation linked above for further help.\n\nOriginal error was: dlopen(/Users/Kaija/opt/anaconda3/envs/pythonProject/lib/python3.6/site-packages/numpy/core/_multiarray_umath.cpython-36m-darwin.so, 2): Library not loaded: @rpath/libopenblas.dylib\n  Referenced from: /Users/Kaija/opt/anaconda3/envs/pythonProject/lib/python3.6/site-packages/numpy/core/_multiarray_umath.cpython-36m-darwin.so\n  Reason: image not found\n",
     "output_type": "error",
     "traceback": [
      "\u001b[0;31m---------------------------------------------------------------------------\u001b[0m",
      "\u001b[0;31mImportError\u001b[0m                               Traceback (most recent call last)",
      "\u001b[0;32m~/opt/anaconda3/envs/pythonProject/lib/python3.6/site-packages/numpy/core/__init__.py\u001b[0m in \u001b[0;36m<module>\u001b[0;34m\u001b[0m\n\u001b[1;32m     21\u001b[0m \u001b[0;32mtry\u001b[0m\u001b[0;34m:\u001b[0m\u001b[0;34m\u001b[0m\u001b[0;34m\u001b[0m\u001b[0m\n\u001b[0;32m---> 22\u001b[0;31m     \u001b[0;32mfrom\u001b[0m \u001b[0;34m.\u001b[0m \u001b[0;32mimport\u001b[0m \u001b[0mmultiarray\u001b[0m\u001b[0;34m\u001b[0m\u001b[0;34m\u001b[0m\u001b[0m\n\u001b[0m\u001b[1;32m     23\u001b[0m \u001b[0;32mexcept\u001b[0m \u001b[0mImportError\u001b[0m \u001b[0;32mas\u001b[0m \u001b[0mexc\u001b[0m\u001b[0;34m:\u001b[0m\u001b[0;34m\u001b[0m\u001b[0;34m\u001b[0m\u001b[0m\n",
      "\u001b[0;32m~/opt/anaconda3/envs/pythonProject/lib/python3.6/site-packages/numpy/core/multiarray.py\u001b[0m in \u001b[0;36m<module>\u001b[0;34m\u001b[0m\n\u001b[1;32m     11\u001b[0m \u001b[0;34m\u001b[0m\u001b[0m\n\u001b[0;32m---> 12\u001b[0;31m \u001b[0;32mfrom\u001b[0m \u001b[0;34m.\u001b[0m \u001b[0;32mimport\u001b[0m \u001b[0moverrides\u001b[0m\u001b[0;34m\u001b[0m\u001b[0;34m\u001b[0m\u001b[0m\n\u001b[0m\u001b[1;32m     13\u001b[0m \u001b[0;32mfrom\u001b[0m \u001b[0;34m.\u001b[0m \u001b[0;32mimport\u001b[0m \u001b[0m_multiarray_umath\u001b[0m\u001b[0;34m\u001b[0m\u001b[0;34m\u001b[0m\u001b[0m\n",
      "\u001b[0;32m~/opt/anaconda3/envs/pythonProject/lib/python3.6/site-packages/numpy/core/overrides.py\u001b[0m in \u001b[0;36m<module>\u001b[0;34m\u001b[0m\n\u001b[1;32m      6\u001b[0m \u001b[0;34m\u001b[0m\u001b[0m\n\u001b[0;32m----> 7\u001b[0;31m from numpy.core._multiarray_umath import (\n\u001b[0m\u001b[1;32m      8\u001b[0m     add_docstring, implement_array_function, _get_implementing_args)\n",
      "\u001b[0;31mImportError\u001b[0m: dlopen(/Users/Kaija/opt/anaconda3/envs/pythonProject/lib/python3.6/site-packages/numpy/core/_multiarray_umath.cpython-36m-darwin.so, 2): Library not loaded: @rpath/libopenblas.dylib\n  Referenced from: /Users/Kaija/opt/anaconda3/envs/pythonProject/lib/python3.6/site-packages/numpy/core/_multiarray_umath.cpython-36m-darwin.so\n  Reason: image not found",
      "\nDuring handling of the above exception, another exception occurred:\n",
      "\u001b[0;31mImportError\u001b[0m                               Traceback (most recent call last)",
      "\u001b[0;32m<ipython-input-1-727b27c08fde>\u001b[0m in \u001b[0;36m<module>\u001b[0;34m\u001b[0m\n\u001b[0;32m----> 1\u001b[0;31m \u001b[0;32mimport\u001b[0m \u001b[0mnumpy\u001b[0m \u001b[0;32mas\u001b[0m \u001b[0mnp\u001b[0m\u001b[0;34m\u001b[0m\u001b[0;34m\u001b[0m\u001b[0m\n\u001b[0m\u001b[1;32m      2\u001b[0m \u001b[0;32mimport\u001b[0m \u001b[0mmatplotlib\u001b[0m\u001b[0;34m.\u001b[0m\u001b[0mpyplot\u001b[0m \u001b[0;32mas\u001b[0m \u001b[0mplt\u001b[0m\u001b[0;34m\u001b[0m\u001b[0;34m\u001b[0m\u001b[0m\n\u001b[1;32m      3\u001b[0m \u001b[0;32mimport\u001b[0m \u001b[0mpandas\u001b[0m \u001b[0;32mas\u001b[0m \u001b[0mpd\u001b[0m\u001b[0;34m\u001b[0m\u001b[0;34m\u001b[0m\u001b[0m\n\u001b[1;32m      4\u001b[0m \u001b[0;34m\u001b[0m\u001b[0m\n\u001b[1;32m      5\u001b[0m \u001b[0;32mfrom\u001b[0m \u001b[0mscipy\u001b[0m\u001b[0;34m.\u001b[0m\u001b[0mspatial\u001b[0m \u001b[0;32mimport\u001b[0m \u001b[0mdistance\u001b[0m\u001b[0;34m\u001b[0m\u001b[0;34m\u001b[0m\u001b[0m\n",
      "\u001b[0;32m~/opt/anaconda3/envs/pythonProject/lib/python3.6/site-packages/numpy/__init__.py\u001b[0m in \u001b[0;36m<module>\u001b[0;34m\u001b[0m\n\u001b[1;32m    138\u001b[0m     \u001b[0;32mfrom\u001b[0m \u001b[0;34m.\u001b[0m \u001b[0;32mimport\u001b[0m \u001b[0m_distributor_init\u001b[0m\u001b[0;34m\u001b[0m\u001b[0;34m\u001b[0m\u001b[0m\n\u001b[1;32m    139\u001b[0m \u001b[0;34m\u001b[0m\u001b[0m\n\u001b[0;32m--> 140\u001b[0;31m     \u001b[0;32mfrom\u001b[0m \u001b[0;34m.\u001b[0m \u001b[0;32mimport\u001b[0m \u001b[0mcore\u001b[0m\u001b[0;34m\u001b[0m\u001b[0;34m\u001b[0m\u001b[0m\n\u001b[0m\u001b[1;32m    141\u001b[0m     \u001b[0;32mfrom\u001b[0m \u001b[0;34m.\u001b[0m\u001b[0mcore\u001b[0m \u001b[0;32mimport\u001b[0m \u001b[0;34m*\u001b[0m\u001b[0;34m\u001b[0m\u001b[0;34m\u001b[0m\u001b[0m\n\u001b[1;32m    142\u001b[0m     \u001b[0;32mfrom\u001b[0m \u001b[0;34m.\u001b[0m \u001b[0;32mimport\u001b[0m \u001b[0mcompat\u001b[0m\u001b[0;34m\u001b[0m\u001b[0;34m\u001b[0m\u001b[0m\n",
      "\u001b[0;32m~/opt/anaconda3/envs/pythonProject/lib/python3.6/site-packages/numpy/core/__init__.py\u001b[0m in \u001b[0;36m<module>\u001b[0;34m\u001b[0m\n\u001b[1;32m     46\u001b[0m \"\"\" % (sys.version_info[0], sys.version_info[1], sys.executable,\n\u001b[1;32m     47\u001b[0m         __version__, exc)\n\u001b[0;32m---> 48\u001b[0;31m     \u001b[0;32mraise\u001b[0m \u001b[0mImportError\u001b[0m\u001b[0;34m(\u001b[0m\u001b[0mmsg\u001b[0m\u001b[0;34m)\u001b[0m\u001b[0;34m\u001b[0m\u001b[0;34m\u001b[0m\u001b[0m\n\u001b[0m\u001b[1;32m     49\u001b[0m \u001b[0;32mfinally\u001b[0m\u001b[0;34m:\u001b[0m\u001b[0;34m\u001b[0m\u001b[0;34m\u001b[0m\u001b[0m\n\u001b[1;32m     50\u001b[0m     \u001b[0;32mfor\u001b[0m \u001b[0menvkey\u001b[0m \u001b[0;32min\u001b[0m \u001b[0menv_added\u001b[0m\u001b[0;34m:\u001b[0m\u001b[0;34m\u001b[0m\u001b[0;34m\u001b[0m\u001b[0m\n",
      "\u001b[0;31mImportError\u001b[0m: \n\nIMPORTANT: PLEASE READ THIS FOR ADVICE ON HOW TO SOLVE THIS ISSUE!\n\nImporting the numpy C-extensions failed. This error can happen for\nmany reasons, often due to issues with your setup or how NumPy was\ninstalled.\n\nWe have compiled some common reasons and troubleshooting tips at:\n\n    https://numpy.org/devdocs/user/troubleshooting-importerror.html\n\nPlease note and check the following:\n\n  * The Python version is: Python3.6 from \"/Users/Kaija/opt/anaconda3/envs/pythonProject/bin/python\"\n  * The NumPy version is: \"1.19.2\"\n\nand make sure that they are the versions you expect.\nPlease carefully study the documentation linked above for further help.\n\nOriginal error was: dlopen(/Users/Kaija/opt/anaconda3/envs/pythonProject/lib/python3.6/site-packages/numpy/core/_multiarray_umath.cpython-36m-darwin.so, 2): Library not loaded: @rpath/libopenblas.dylib\n  Referenced from: /Users/Kaija/opt/anaconda3/envs/pythonProject/lib/python3.6/site-packages/numpy/core/_multiarray_umath.cpython-36m-darwin.so\n  Reason: image not found\n"
     ]
    }
   ],
   "source": [
    "import numpy as np\n",
    "import matplotlib.pyplot as plt\n",
    "import pandas as pd\n",
    "\n",
    "from scipy.spatial import distance"
   ]
  },
  {
   "cell_type": "code",
   "execution_count": 4,
   "id": "edf1635e",
   "metadata": {},
   "outputs": [],
   "source": [
    "df = pd.read_csv('data/embedded_ladec.csv')"
   ]
  },
  {
   "cell_type": "code",
   "execution_count": 3,
   "id": "f9f4b04e",
   "metadata": {},
   "outputs": [],
   "source": [
    "embeddings_dict = {}\n",
    "\n",
    "with open(\"data/glove.6B.50d.txt\", 'r') as f:\n",
    "    for line in f:\n",
    "        values = line.split()\n",
    "        word = values[0]\n",
    "        vector = np.asarray(values[1:], \"float32\")\n",
    "        embeddings_dict[word] = vector\n"
   ]
  },
  {
   "cell_type": "code",
   "execution_count": 5,
   "id": "ddeb5ef4",
   "metadata": {},
   "outputs": [
    {
     "data": {
      "text/html": [
       "<div>\n",
       "<style scoped>\n",
       "    .dataframe tbody tr th:only-of-type {\n",
       "        vertical-align: middle;\n",
       "    }\n",
       "\n",
       "    .dataframe tbody tr th {\n",
       "        vertical-align: top;\n",
       "    }\n",
       "\n",
       "    .dataframe thead th {\n",
       "        text-align: right;\n",
       "    }\n",
       "</style>\n",
       "<table border=\"1\" class=\"dataframe\">\n",
       "  <thead>\n",
       "    <tr style=\"text-align: right;\">\n",
       "      <th></th>\n",
       "      <th>Unnamed: 0</th>\n",
       "      <th>id_master</th>\n",
       "      <th>c1</th>\n",
       "      <th>c2</th>\n",
       "      <th>stim</th>\n",
       "      <th>correctParse</th>\n",
       "      <th>ratingcmp</th>\n",
       "      <th>ratingC1</th>\n",
       "      <th>ratingC2</th>\n",
       "    </tr>\n",
       "  </thead>\n",
       "  <tbody>\n",
       "    <tr>\n",
       "      <th>0</th>\n",
       "      <td>0</td>\n",
       "      <td>3237</td>\n",
       "      <td>gad</td>\n",
       "      <td>about</td>\n",
       "      <td>gadabout</td>\n",
       "      <td>yes</td>\n",
       "      <td>24.250000</td>\n",
       "      <td>36.541668</td>\n",
       "      <td>44.541668</td>\n",
       "    </tr>\n",
       "    <tr>\n",
       "      <th>1</th>\n",
       "      <td>1</td>\n",
       "      <td>4592</td>\n",
       "      <td>knock</td>\n",
       "      <td>about</td>\n",
       "      <td>knockabout</td>\n",
       "      <td>yes</td>\n",
       "      <td>41.461540</td>\n",
       "      <td>52.769230</td>\n",
       "      <td>38.961540</td>\n",
       "    </tr>\n",
       "    <tr>\n",
       "      <th>2</th>\n",
       "      <td>2</td>\n",
       "      <td>8231</td>\n",
       "      <td>turn</td>\n",
       "      <td>about</td>\n",
       "      <td>turnabout</td>\n",
       "      <td>yes</td>\n",
       "      <td>72.551727</td>\n",
       "      <td>82.413795</td>\n",
       "      <td>54.862068</td>\n",
       "    </tr>\n",
       "    <tr>\n",
       "      <th>3</th>\n",
       "      <td>4</td>\n",
       "      <td>8331</td>\n",
       "      <td>walk</td>\n",
       "      <td>about</td>\n",
       "      <td>walkabout</td>\n",
       "      <td>yes</td>\n",
       "      <td>68.281250</td>\n",
       "      <td>87.906250</td>\n",
       "      <td>56.875000</td>\n",
       "    </tr>\n",
       "    <tr>\n",
       "      <th>4</th>\n",
       "      <td>5</td>\n",
       "      <td>6416</td>\n",
       "      <td>run</td>\n",
       "      <td>about</td>\n",
       "      <td>runabout</td>\n",
       "      <td>yes</td>\n",
       "      <td>69.689651</td>\n",
       "      <td>79.035713</td>\n",
       "      <td>61.392857</td>\n",
       "    </tr>\n",
       "    <tr>\n",
       "      <th>...</th>\n",
       "      <td>...</td>\n",
       "      <td>...</td>\n",
       "      <td>...</td>\n",
       "      <td>...</td>\n",
       "      <td>...</td>\n",
       "      <td>...</td>\n",
       "      <td>...</td>\n",
       "      <td>...</td>\n",
       "      <td>...</td>\n",
       "    </tr>\n",
       "    <tr>\n",
       "      <th>5897</th>\n",
       "      <td>8951</td>\n",
       "      <td>4515</td>\n",
       "      <td>junk</td>\n",
       "      <td>yards</td>\n",
       "      <td>junkyards</td>\n",
       "      <td>yes</td>\n",
       "      <td>92.107140</td>\n",
       "      <td>91.214287</td>\n",
       "      <td>83.714287</td>\n",
       "    </tr>\n",
       "    <tr>\n",
       "      <th>5898</th>\n",
       "      <td>8952</td>\n",
       "      <td>6812</td>\n",
       "      <td>ship</td>\n",
       "      <td>yards</td>\n",
       "      <td>shipyards</td>\n",
       "      <td>yes</td>\n",
       "      <td>75.285713</td>\n",
       "      <td>84.750000</td>\n",
       "      <td>67.928574</td>\n",
       "    </tr>\n",
       "    <tr>\n",
       "      <th>5899</th>\n",
       "      <td>8953</td>\n",
       "      <td>2667</td>\n",
       "      <td>farm</td>\n",
       "      <td>yards</td>\n",
       "      <td>farmyards</td>\n",
       "      <td>yes</td>\n",
       "      <td>91.047623</td>\n",
       "      <td>90.380951</td>\n",
       "      <td>82.333336</td>\n",
       "    </tr>\n",
       "    <tr>\n",
       "      <th>5900</th>\n",
       "      <td>8954</td>\n",
       "      <td>1007</td>\n",
       "      <td>brick</td>\n",
       "      <td>yards</td>\n",
       "      <td>brickyards</td>\n",
       "      <td>yes</td>\n",
       "      <td>81.333336</td>\n",
       "      <td>77.476189</td>\n",
       "      <td>81.476189</td>\n",
       "    </tr>\n",
       "    <tr>\n",
       "      <th>5901</th>\n",
       "      <td>8955</td>\n",
       "      <td>8892</td>\n",
       "      <td>zig</td>\n",
       "      <td>zag</td>\n",
       "      <td>zigzag</td>\n",
       "      <td>yes</td>\n",
       "      <td>54.433334</td>\n",
       "      <td>48.733334</td>\n",
       "      <td>47.933334</td>\n",
       "    </tr>\n",
       "  </tbody>\n",
       "</table>\n",
       "<p>5902 rows × 9 columns</p>\n",
       "</div>"
      ],
      "text/plain": [
       "      Unnamed: 0  id_master     c1     c2        stim correctParse  ratingcmp  \\\n",
       "0              0       3237    gad  about    gadabout          yes  24.250000   \n",
       "1              1       4592  knock  about  knockabout          yes  41.461540   \n",
       "2              2       8231   turn  about   turnabout          yes  72.551727   \n",
       "3              4       8331   walk  about   walkabout          yes  68.281250   \n",
       "4              5       6416    run  about    runabout          yes  69.689651   \n",
       "...          ...        ...    ...    ...         ...          ...        ...   \n",
       "5897        8951       4515   junk  yards   junkyards          yes  92.107140   \n",
       "5898        8952       6812   ship  yards   shipyards          yes  75.285713   \n",
       "5899        8953       2667   farm  yards   farmyards          yes  91.047623   \n",
       "5900        8954       1007  brick  yards  brickyards          yes  81.333336   \n",
       "5901        8955       8892    zig    zag      zigzag          yes  54.433334   \n",
       "\n",
       "       ratingC1   ratingC2  \n",
       "0     36.541668  44.541668  \n",
       "1     52.769230  38.961540  \n",
       "2     82.413795  54.862068  \n",
       "3     87.906250  56.875000  \n",
       "4     79.035713  61.392857  \n",
       "...         ...        ...  \n",
       "5897  91.214287  83.714287  \n",
       "5898  84.750000  67.928574  \n",
       "5899  90.380951  82.333336  \n",
       "5900  77.476189  81.476189  \n",
       "5901  48.733334  47.933334  \n",
       "\n",
       "[5902 rows x 9 columns]"
      ]
     },
     "execution_count": 5,
     "metadata": {},
     "output_type": "execute_result"
    }
   ],
   "source": [
    "df"
   ]
  },
  {
   "cell_type": "code",
   "execution_count": 6,
   "id": "a0a4e6e2",
   "metadata": {},
   "outputs": [],
   "source": [
    "all_embeddings = pd.DataFrame( df['stim'] ) "
   ]
  },
  {
   "cell_type": "code",
   "execution_count": 7,
   "id": "5cc31fe1",
   "metadata": {},
   "outputs": [
    {
     "data": {
      "text/html": [
       "<div>\n",
       "<style scoped>\n",
       "    .dataframe tbody tr th:only-of-type {\n",
       "        vertical-align: middle;\n",
       "    }\n",
       "\n",
       "    .dataframe tbody tr th {\n",
       "        vertical-align: top;\n",
       "    }\n",
       "\n",
       "    .dataframe thead th {\n",
       "        text-align: right;\n",
       "    }\n",
       "</style>\n",
       "<table border=\"1\" class=\"dataframe\">\n",
       "  <thead>\n",
       "    <tr style=\"text-align: right;\">\n",
       "      <th></th>\n",
       "      <th>stim</th>\n",
       "    </tr>\n",
       "  </thead>\n",
       "  <tbody>\n",
       "    <tr>\n",
       "      <th>0</th>\n",
       "      <td>gadabout</td>\n",
       "    </tr>\n",
       "    <tr>\n",
       "      <th>1</th>\n",
       "      <td>knockabout</td>\n",
       "    </tr>\n",
       "    <tr>\n",
       "      <th>2</th>\n",
       "      <td>turnabout</td>\n",
       "    </tr>\n",
       "    <tr>\n",
       "      <th>3</th>\n",
       "      <td>walkabout</td>\n",
       "    </tr>\n",
       "    <tr>\n",
       "      <th>4</th>\n",
       "      <td>runabout</td>\n",
       "    </tr>\n",
       "    <tr>\n",
       "      <th>...</th>\n",
       "      <td>...</td>\n",
       "    </tr>\n",
       "    <tr>\n",
       "      <th>5897</th>\n",
       "      <td>junkyards</td>\n",
       "    </tr>\n",
       "    <tr>\n",
       "      <th>5898</th>\n",
       "      <td>shipyards</td>\n",
       "    </tr>\n",
       "    <tr>\n",
       "      <th>5899</th>\n",
       "      <td>farmyards</td>\n",
       "    </tr>\n",
       "    <tr>\n",
       "      <th>5900</th>\n",
       "      <td>brickyards</td>\n",
       "    </tr>\n",
       "    <tr>\n",
       "      <th>5901</th>\n",
       "      <td>zigzag</td>\n",
       "    </tr>\n",
       "  </tbody>\n",
       "</table>\n",
       "<p>5902 rows × 1 columns</p>\n",
       "</div>"
      ],
      "text/plain": [
       "            stim\n",
       "0       gadabout\n",
       "1     knockabout\n",
       "2      turnabout\n",
       "3      walkabout\n",
       "4       runabout\n",
       "...          ...\n",
       "5897   junkyards\n",
       "5898   shipyards\n",
       "5899   farmyards\n",
       "5900  brickyards\n",
       "5901      zigzag\n",
       "\n",
       "[5902 rows x 1 columns]"
      ]
     },
     "execution_count": 7,
     "metadata": {},
     "output_type": "execute_result"
    }
   ],
   "source": [
    "all_embeddings"
   ]
  },
  {
   "cell_type": "code",
   "execution_count": 12,
   "id": "44127f6e",
   "metadata": {},
   "outputs": [
    {
     "data": {
      "text/plain": [
       "0       [-0.28186, 0.76122, 0.31124, -0.056947, -0.161...\n",
       "1       [-0.12375, -0.75023, 0.60649, -0.20309, 0.1540...\n",
       "2       [0.45343, -0.22031, 0.53704, -0.48735, 0.34246...\n",
       "3       [0.41281, 0.9111, -0.078414, -0.46515, 0.61895...\n",
       "4       [-0.39488, -0.16448, 0.5962, 0.65815, -0.16846...\n",
       "                              ...                        \n",
       "5897    [0.3149, 0.14974, 1.1282, -0.90558, 0.13206, -...\n",
       "5898    [1.5213, 0.10522, 0.38162, -0.50801, 0.032423,...\n",
       "5899    [0.025942, 0.0086659, -0.46658, -0.33945, -0.1...\n",
       "5900    [-0.055554, 0.82421, -0.025621, -0.77371, 0.66...\n",
       "5901    [-0.27995, -0.76678, -0.33642, -0.87815, -1.54...\n",
       "Length: 5902, dtype: object"
      ]
     },
     "execution_count": 12,
     "metadata": {},
     "output_type": "execute_result"
    }
   ],
   "source": [
    "df.apply( lambda row: embeddings_dict[ row['c1'] ], axis=1 )"
   ]
  },
  {
   "cell_type": "code",
   "execution_count": 13,
   "id": "57ad0705",
   "metadata": {},
   "outputs": [],
   "source": [
    "all_embeddings['c1_embedding'] = Out[12]"
   ]
  },
  {
   "cell_type": "code",
   "execution_count": 14,
   "id": "be81799c",
   "metadata": {},
   "outputs": [],
   "source": [
    "all_embeddings['c2_embedding'] = df.apply( lambda row: embeddings_dict[ row['c2'] ], axis=1 )"
   ]
  },
  {
   "cell_type": "code",
   "execution_count": 16,
   "id": "9b321097",
   "metadata": {},
   "outputs": [],
   "source": [
    "all_embeddings['cmp_embedding'] = df.apply( lambda row: embeddings_dict[ row['stim'] ], axis=1 )"
   ]
  },
  {
   "cell_type": "code",
   "execution_count": 17,
   "id": "c38abb94",
   "metadata": {},
   "outputs": [
    {
     "data": {
      "text/html": [
       "<div>\n",
       "<style scoped>\n",
       "    .dataframe tbody tr th:only-of-type {\n",
       "        vertical-align: middle;\n",
       "    }\n",
       "\n",
       "    .dataframe tbody tr th {\n",
       "        vertical-align: top;\n",
       "    }\n",
       "\n",
       "    .dataframe thead th {\n",
       "        text-align: right;\n",
       "    }\n",
       "</style>\n",
       "<table border=\"1\" class=\"dataframe\">\n",
       "  <thead>\n",
       "    <tr style=\"text-align: right;\">\n",
       "      <th></th>\n",
       "      <th>stim</th>\n",
       "      <th>c1_embedding</th>\n",
       "      <th>c2_embedding</th>\n",
       "      <th>cmp_embedding</th>\n",
       "    </tr>\n",
       "  </thead>\n",
       "  <tbody>\n",
       "    <tr>\n",
       "      <th>0</th>\n",
       "      <td>gadabout</td>\n",
       "      <td>[-0.28186, 0.76122, 0.31124, -0.056947, -0.161...</td>\n",
       "      <td>[0.89466, 0.36604, 0.37588, -0.41818, 0.58462,...</td>\n",
       "      <td>[-0.95223, 0.22216, -0.31866, -0.80328, -0.349...</td>\n",
       "    </tr>\n",
       "    <tr>\n",
       "      <th>1</th>\n",
       "      <td>knockabout</td>\n",
       "      <td>[-0.12375, -0.75023, 0.60649, -0.20309, 0.1540...</td>\n",
       "      <td>[0.89466, 0.36604, 0.37588, -0.41818, 0.58462,...</td>\n",
       "      <td>[-0.53877, -0.3707, -1.3318, -0.32446, -0.4598...</td>\n",
       "    </tr>\n",
       "    <tr>\n",
       "      <th>2</th>\n",
       "      <td>turnabout</td>\n",
       "      <td>[0.45343, -0.22031, 0.53704, -0.48735, 0.34246...</td>\n",
       "      <td>[0.89466, 0.36604, 0.37588, -0.41818, 0.58462,...</td>\n",
       "      <td>[0.24069, -0.3018, -1.1675, 0.055764, 0.006460...</td>\n",
       "    </tr>\n",
       "    <tr>\n",
       "      <th>3</th>\n",
       "      <td>walkabout</td>\n",
       "      <td>[0.41281, 0.9111, -0.078414, -0.46515, 0.61895...</td>\n",
       "      <td>[0.89466, 0.36604, 0.37588, -0.41818, 0.58462,...</td>\n",
       "      <td>[-0.18218, -0.13491, -1.2826, -0.77825, -0.849...</td>\n",
       "    </tr>\n",
       "    <tr>\n",
       "      <th>4</th>\n",
       "      <td>runabout</td>\n",
       "      <td>[-0.39488, -0.16448, 0.5962, 0.65815, -0.16846...</td>\n",
       "      <td>[0.89466, 0.36604, 0.37588, -0.41818, 0.58462,...</td>\n",
       "      <td>[0.33506, -0.64988, 0.44627, -0.39203, -0.9616...</td>\n",
       "    </tr>\n",
       "    <tr>\n",
       "      <th>...</th>\n",
       "      <td>...</td>\n",
       "      <td>...</td>\n",
       "      <td>...</td>\n",
       "      <td>...</td>\n",
       "    </tr>\n",
       "    <tr>\n",
       "      <th>5897</th>\n",
       "      <td>junkyards</td>\n",
       "      <td>[0.3149, 0.14974, 1.1282, -0.90558, 0.13206, -...</td>\n",
       "      <td>[-1.1475, -0.01226, 2.0037, -0.51959, 0.3916, ...</td>\n",
       "      <td>[-0.20939, -0.61757, 0.28687, -0.14008, -0.710...</td>\n",
       "    </tr>\n",
       "    <tr>\n",
       "      <th>5898</th>\n",
       "      <td>shipyards</td>\n",
       "      <td>[1.5213, 0.10522, 0.38162, -0.50801, 0.032423,...</td>\n",
       "      <td>[-1.1475, -0.01226, 2.0037, -0.51959, 0.3916, ...</td>\n",
       "      <td>[0.67891, -0.16578, -0.12632, -0.10268, -0.962...</td>\n",
       "    </tr>\n",
       "    <tr>\n",
       "      <th>5899</th>\n",
       "      <td>farmyards</td>\n",
       "      <td>[0.025942, 0.0086659, -0.46658, -0.33945, -0.1...</td>\n",
       "      <td>[-1.1475, -0.01226, 2.0037, -0.51959, 0.3916, ...</td>\n",
       "      <td>[0.23381, -0.35211, 0.22571, -0.5987, -0.25451...</td>\n",
       "    </tr>\n",
       "    <tr>\n",
       "      <th>5900</th>\n",
       "      <td>brickyards</td>\n",
       "      <td>[-0.055554, 0.82421, -0.025621, -0.77371, 0.66...</td>\n",
       "      <td>[-1.1475, -0.01226, 2.0037, -0.51959, 0.3916, ...</td>\n",
       "      <td>[-0.13562, -1.2678, 0.10599, 0.32873, -0.7487,...</td>\n",
       "    </tr>\n",
       "    <tr>\n",
       "      <th>5901</th>\n",
       "      <td>zigzag</td>\n",
       "      <td>[-0.27995, -0.76678, -0.33642, -0.87815, -1.54...</td>\n",
       "      <td>[-0.010665, -0.57018, -0.69413, -0.70944, -1.5...</td>\n",
       "      <td>[0.17493, -0.28962, -0.81525, -0.28918, -0.628...</td>\n",
       "    </tr>\n",
       "  </tbody>\n",
       "</table>\n",
       "<p>5902 rows × 4 columns</p>\n",
       "</div>"
      ],
      "text/plain": [
       "            stim                                       c1_embedding  \\\n",
       "0       gadabout  [-0.28186, 0.76122, 0.31124, -0.056947, -0.161...   \n",
       "1     knockabout  [-0.12375, -0.75023, 0.60649, -0.20309, 0.1540...   \n",
       "2      turnabout  [0.45343, -0.22031, 0.53704, -0.48735, 0.34246...   \n",
       "3      walkabout  [0.41281, 0.9111, -0.078414, -0.46515, 0.61895...   \n",
       "4       runabout  [-0.39488, -0.16448, 0.5962, 0.65815, -0.16846...   \n",
       "...          ...                                                ...   \n",
       "5897   junkyards  [0.3149, 0.14974, 1.1282, -0.90558, 0.13206, -...   \n",
       "5898   shipyards  [1.5213, 0.10522, 0.38162, -0.50801, 0.032423,...   \n",
       "5899   farmyards  [0.025942, 0.0086659, -0.46658, -0.33945, -0.1...   \n",
       "5900  brickyards  [-0.055554, 0.82421, -0.025621, -0.77371, 0.66...   \n",
       "5901      zigzag  [-0.27995, -0.76678, -0.33642, -0.87815, -1.54...   \n",
       "\n",
       "                                           c2_embedding  \\\n",
       "0     [0.89466, 0.36604, 0.37588, -0.41818, 0.58462,...   \n",
       "1     [0.89466, 0.36604, 0.37588, -0.41818, 0.58462,...   \n",
       "2     [0.89466, 0.36604, 0.37588, -0.41818, 0.58462,...   \n",
       "3     [0.89466, 0.36604, 0.37588, -0.41818, 0.58462,...   \n",
       "4     [0.89466, 0.36604, 0.37588, -0.41818, 0.58462,...   \n",
       "...                                                 ...   \n",
       "5897  [-1.1475, -0.01226, 2.0037, -0.51959, 0.3916, ...   \n",
       "5898  [-1.1475, -0.01226, 2.0037, -0.51959, 0.3916, ...   \n",
       "5899  [-1.1475, -0.01226, 2.0037, -0.51959, 0.3916, ...   \n",
       "5900  [-1.1475, -0.01226, 2.0037, -0.51959, 0.3916, ...   \n",
       "5901  [-0.010665, -0.57018, -0.69413, -0.70944, -1.5...   \n",
       "\n",
       "                                          cmp_embedding  \n",
       "0     [-0.95223, 0.22216, -0.31866, -0.80328, -0.349...  \n",
       "1     [-0.53877, -0.3707, -1.3318, -0.32446, -0.4598...  \n",
       "2     [0.24069, -0.3018, -1.1675, 0.055764, 0.006460...  \n",
       "3     [-0.18218, -0.13491, -1.2826, -0.77825, -0.849...  \n",
       "4     [0.33506, -0.64988, 0.44627, -0.39203, -0.9616...  \n",
       "...                                                 ...  \n",
       "5897  [-0.20939, -0.61757, 0.28687, -0.14008, -0.710...  \n",
       "5898  [0.67891, -0.16578, -0.12632, -0.10268, -0.962...  \n",
       "5899  [0.23381, -0.35211, 0.22571, -0.5987, -0.25451...  \n",
       "5900  [-0.13562, -1.2678, 0.10599, 0.32873, -0.7487,...  \n",
       "5901  [0.17493, -0.28962, -0.81525, -0.28918, -0.628...  \n",
       "\n",
       "[5902 rows x 4 columns]"
      ]
     },
     "execution_count": 17,
     "metadata": {},
     "output_type": "execute_result"
    }
   ],
   "source": [
    "all_embeddings"
   ]
  },
  {
   "cell_type": "code",
   "execution_count": 18,
   "id": "95c85b65",
   "metadata": {},
   "outputs": [],
   "source": [
    "#embedded_ladec.to_csv('data/embedded_ladec.csv')\n",
    "all_embeddings.to_csv('data/all_embeddings_forML.csv')"
   ]
  },
  {
   "cell_type": "code",
   "execution_count": 19,
   "id": "a04607f0",
   "metadata": {},
   "outputs": [
    {
     "ename": "NameError",
     "evalue": "name 'os' is not defined",
     "output_type": "error",
     "traceback": [
      "\u001b[0;31m---------------------------------------------------------------------------\u001b[0m",
      "\u001b[0;31mNameError\u001b[0m                                 Traceback (most recent call last)",
      "\u001b[0;32m<ipython-input-19-fcfc038a1397>\u001b[0m in \u001b[0;36m<module>\u001b[0;34m\u001b[0m\n\u001b[0;32m----> 1\u001b[0;31m \u001b[0mos\u001b[0m\u001b[0;34m.\u001b[0m\u001b[0mversion\u001b[0m\u001b[0;34m\u001b[0m\u001b[0;34m\u001b[0m\u001b[0m\n\u001b[0m",
      "\u001b[0;31mNameError\u001b[0m: name 'os' is not defined"
     ]
    }
   ],
   "source": [
    "os.version\n"
   ]
  },
  {
   "cell_type": "code",
   "execution_count": 20,
   "id": "7823f17c",
   "metadata": {},
   "outputs": [],
   "source": [
    "import os"
   ]
  },
  {
   "cell_type": "code",
   "execution_count": 21,
   "id": "476e4d0a",
   "metadata": {},
   "outputs": [
    {
     "name": "stderr",
     "output_type": "stream",
     "text": [
      "UsageError: %%python3 is a cell magic, but the cell body is empty.\n"
     ]
    }
   ],
   "source": [
    "%%python3\n"
   ]
  },
  {
   "cell_type": "code",
   "execution_count": 22,
   "id": "7d429bea",
   "metadata": {},
   "outputs": [],
   "source": [
    "from platform import python_version"
   ]
  },
  {
   "cell_type": "code",
   "execution_count": 24,
   "id": "5e7520e7",
   "metadata": {},
   "outputs": [
    {
     "data": {
      "text/plain": [
       "'3.8.8'"
      ]
     },
     "execution_count": 24,
     "metadata": {},
     "output_type": "execute_result"
    }
   ],
   "source": [
    "python_version()\n"
   ]
  },
  {
   "cell_type": "code",
   "execution_count": 25,
   "id": "6337570e",
   "metadata": {},
   "outputs": [
    {
     "ename": "ModuleNotFoundError",
     "evalue": "No module named 'tensorflow'",
     "output_type": "error",
     "traceback": [
      "\u001b[0;31m---------------------------------------------------------------------------\u001b[0m",
      "\u001b[0;31mModuleNotFoundError\u001b[0m                       Traceback (most recent call last)",
      "\u001b[0;32m<ipython-input-25-9d7ed441cee1>\u001b[0m in \u001b[0;36m<module>\u001b[0;34m\u001b[0m\n\u001b[0;32m----> 1\u001b[0;31m \u001b[0;32mimport\u001b[0m \u001b[0mtflearn\u001b[0m\u001b[0;34m\u001b[0m\u001b[0;34m\u001b[0m\u001b[0m\n\u001b[0m",
      "\u001b[0;32m~/opt/anaconda3/lib/python3.8/site-packages/tflearn/__init__.py\u001b[0m in \u001b[0;36m<module>\u001b[0;34m\u001b[0m\n\u001b[1;32m      2\u001b[0m \u001b[0;34m\u001b[0m\u001b[0m\n\u001b[1;32m      3\u001b[0m \u001b[0;31m# Disable TF eager mode\u001b[0m\u001b[0;34m\u001b[0m\u001b[0;34m\u001b[0m\u001b[0;34m\u001b[0m\u001b[0m\n\u001b[0;32m----> 4\u001b[0;31m \u001b[0;32mimport\u001b[0m \u001b[0mtensorflow\u001b[0m\u001b[0;34m.\u001b[0m\u001b[0mcompat\u001b[0m\u001b[0;34m.\u001b[0m\u001b[0mv1\u001b[0m \u001b[0;32mas\u001b[0m \u001b[0mtf\u001b[0m\u001b[0;34m\u001b[0m\u001b[0;34m\u001b[0m\u001b[0m\n\u001b[0m\u001b[1;32m      5\u001b[0m \u001b[0mtf\u001b[0m\u001b[0;34m.\u001b[0m\u001b[0mdisable_v2_behavior\u001b[0m\u001b[0;34m(\u001b[0m\u001b[0;34m)\u001b[0m\u001b[0;34m\u001b[0m\u001b[0;34m\u001b[0m\u001b[0m\n\u001b[1;32m      6\u001b[0m \u001b[0;34m\u001b[0m\u001b[0m\n",
      "\u001b[0;31mModuleNotFoundError\u001b[0m: No module named 'tensorflow'"
     ]
    }
   ],
   "source": [
    "import tflearn"
   ]
  },
  {
   "cell_type": "code",
   "execution_count": 26,
   "id": "e60860ce",
   "metadata": {},
   "outputs": [
    {
     "ename": "ModuleNotFoundError",
     "evalue": "No module named 'tensorflow'",
     "output_type": "error",
     "traceback": [
      "\u001b[0;31m---------------------------------------------------------------------------\u001b[0m",
      "\u001b[0;31mModuleNotFoundError\u001b[0m                       Traceback (most recent call last)",
      "\u001b[0;32m<ipython-input-26-d6579f534729>\u001b[0m in \u001b[0;36m<module>\u001b[0;34m\u001b[0m\n\u001b[0;32m----> 1\u001b[0;31m \u001b[0;32mimport\u001b[0m \u001b[0mtensorflow\u001b[0m\u001b[0;34m\u001b[0m\u001b[0;34m\u001b[0m\u001b[0m\n\u001b[0m",
      "\u001b[0;31mModuleNotFoundError\u001b[0m: No module named 'tensorflow'"
     ]
    }
   ],
   "source": [
    "import tensorflow"
   ]
  },
  {
   "cell_type": "code",
   "execution_count": null,
   "id": "a8f2ff74",
   "metadata": {},
   "outputs": [],
   "source": []
  }
 ],
 "metadata": {
  "kernelspec": {
   "display_name": "Python 3",
   "language": "python",
   "name": "python3"
  },
  "language_info": {
   "codemirror_mode": {
    "name": "ipython",
    "version": 3
   },
   "file_extension": ".py",
   "mimetype": "text/x-python",
   "name": "python",
   "nbconvert_exporter": "python",
   "pygments_lexer": "ipython3",
   "version": "3.6.13"
  }
 },
 "nbformat": 4,
 "nbformat_minor": 5
}
