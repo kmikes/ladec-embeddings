{
 "cells": [
  {
   "cell_type": "code",
   "execution_count": 1,
   "id": "0244dd54",
   "metadata": {},
   "outputs": [
    {
     "name": "stdout",
     "output_type": "stream",
     "text": [
      "bonjour\n"
     ]
    }
   ],
   "source": [
    "print('bonjour')"
   ]
  },
  {
   "cell_type": "code",
   "execution_count": 2,
   "id": "d4a4f5fe",
   "metadata": {},
   "outputs": [
    {
     "ename": "ModuleNotFoundError",
     "evalue": "No module named 'main'",
     "output_type": "error",
     "traceback": [
      "\u001b[0;31m---------------------------------------------------------------------------\u001b[0m",
      "\u001b[0;31mModuleNotFoundError\u001b[0m                       Traceback (most recent call last)",
      "\u001b[0;32m<ipython-input-2-63b75181c34a>\u001b[0m in \u001b[0;36m<module>\u001b[0;34m\u001b[0m\n\u001b[0;32m----> 1\u001b[0;31m \u001b[0;32mimport\u001b[0m \u001b[0mmain\u001b[0m\u001b[0;34m\u001b[0m\u001b[0;34m\u001b[0m\u001b[0m\n\u001b[0m",
      "\u001b[0;31mModuleNotFoundError\u001b[0m: No module named 'main'"
     ]
    }
   ],
   "source": [
    "import main"
   ]
  },
  {
   "cell_type": "code",
   "execution_count": 3,
   "id": "a9e46952",
   "metadata": {},
   "outputs": [],
   "source": [
    "import numpy as np"
   ]
  },
  {
   "cell_type": "code",
   "execution_count": 4,
   "id": "6b5d31fc",
   "metadata": {},
   "outputs": [
    {
     "ename": "SyntaxError",
     "evalue": "invalid syntax (<ipython-input-4-a3a591b81872>, line 1)",
     "output_type": "error",
     "traceback": [
      "\u001b[0;36m  File \u001b[0;32m\"<ipython-input-4-a3a591b81872>\"\u001b[0;36m, line \u001b[0;32m1\u001b[0m\n\u001b[0;31m    np.?\u001b[0m\n\u001b[0m       ^\u001b[0m\n\u001b[0;31mSyntaxError\u001b[0m\u001b[0;31m:\u001b[0m invalid syntax\n"
     ]
    }
   ],
   "source": [
    "np.?"
   ]
  },
  {
   "cell_type": "code",
   "execution_count": 5,
   "id": "6daf031f",
   "metadata": {},
   "outputs": [],
   "source": [
    "np?"
   ]
  },
  {
   "cell_type": "code",
   "execution_count": 6,
   "id": "3f551f53",
   "metadata": {},
   "outputs": [],
   "source": [
    "#numpy - matrices and math\n",
    "#panda - datasets\n",
    "#matplotlib - plotting (data)\n",
    "#nltk - Natural Language ToolKit"
   ]
  },
  {
   "cell_type": "code",
   "execution_count": 7,
   "id": "e903d8c0",
   "metadata": {},
   "outputs": [],
   "source": [
    "import matplotlib.pyplot as plt\n"
   ]
  },
  {
   "cell_type": "code",
   "execution_count": 8,
   "id": "a67901e9",
   "metadata": {},
   "outputs": [],
   "source": [
    "mu = 80\n",
    "sigma = 7\n",
    "x = np.random.normal(mu, sigma, size=200)\n",
    "#var = np.random.normal( mean, stdev, size <= (number of values) )"
   ]
  },
  {
   "cell_type": "code",
   "execution_count": 9,
   "id": "b51285bf",
   "metadata": {},
   "outputs": [
    {
     "data": {
      "text/plain": [
       "array([77.12964808, 84.04804697, 79.20434209, 77.5819192 , 72.86363679,\n",
       "       77.83797836, 84.99110864, 72.41692567, 76.68049172, 83.11346888,\n",
       "       74.29403332, 68.2200023 , 96.35484122, 86.84763079, 74.00140011,\n",
       "       80.51028952, 78.02372559, 72.82131757, 75.38575221, 81.74161831,\n",
       "       75.63403088, 84.64140619, 82.81459081, 78.36187409, 71.06920283,\n",
       "       79.98203175, 95.43877807, 79.44285169, 91.48696222, 77.34750253,\n",
       "       67.7453825 , 79.20881732, 67.43735062, 79.32751398, 91.91211657,\n",
       "       99.34562275, 84.58434036, 77.20577593, 74.64126304, 81.03105909,\n",
       "       84.66105219, 72.68608783, 76.14693799, 83.04098885, 89.35282786,\n",
       "       81.41235003, 62.91783588, 95.13959172, 79.59564861, 79.69888285,\n",
       "       90.26127847, 74.11945914, 87.31216536, 92.75914413, 78.71561275,\n",
       "       81.17474047, 81.75161226, 71.79506923, 72.69651884, 89.94939516,\n",
       "       83.3976639 , 99.57486264, 96.76768129, 85.49629383, 84.9878013 ,\n",
       "       80.43872392, 93.79247233, 70.79924255, 73.00340491, 78.24470629,\n",
       "       82.12904907, 71.83787743, 76.68150988, 85.41948309, 77.77648015,\n",
       "       72.3234688 , 80.23455155, 81.47597816, 83.74038245, 77.10691431,\n",
       "       67.53143612, 82.83160914, 84.54271492, 81.0623856 , 82.69536919,\n",
       "       69.8567533 , 82.98978012, 73.14658226, 64.09492101, 77.61878923,\n",
       "       91.1191677 , 85.97729651, 74.20416641, 78.72942301, 84.14277414,\n",
       "       88.98318862, 85.29334891, 82.08096757, 68.3286755 , 76.63069279,\n",
       "       90.9624001 , 83.61262434, 85.57899625, 84.10289494, 75.42740985,\n",
       "       82.48907211, 77.42010371, 79.58289721, 83.44432065, 85.38989909,\n",
       "       84.40033923, 85.50384997, 84.3069323 , 74.4476815 , 97.33188604,\n",
       "       83.14699565, 73.84844297, 83.64363985, 82.97329394, 85.1907464 ,\n",
       "       84.56310572, 84.15262515, 79.65603836, 84.37927719, 81.64135951,\n",
       "       77.94947863, 86.25495944, 87.0066877 , 68.39008642, 90.22794388,\n",
       "       66.28466022, 87.29407591, 83.16025523, 87.12079983, 78.74058983,\n",
       "       82.67231767, 78.54992714, 78.64086757, 75.81955187, 77.45893874,\n",
       "       73.41547232, 74.25105384, 85.87051841, 69.52696527, 83.03890505,\n",
       "       81.33640233, 83.05273898, 83.16783986, 80.35160293, 85.198644  ,\n",
       "       77.38971947, 86.40969192, 75.86592469, 88.19553905, 85.82536372,\n",
       "       92.8010131 , 65.7914163 , 79.94064348, 76.80210845, 82.16921977,\n",
       "       69.66687984, 95.5773639 , 83.86203536, 74.38037725, 85.95914765,\n",
       "       70.18263842, 76.78963056, 86.80602853, 82.24690371, 67.85633571,\n",
       "       77.16138697, 71.91398497, 68.43992808, 81.59898953, 70.2762876 ,\n",
       "       83.67374021, 91.3449437 , 82.16882623, 76.58629594, 90.38125488,\n",
       "       77.40792399, 68.81775344, 79.06109343, 82.56558724, 73.27555075,\n",
       "       77.43196949, 89.47985447, 81.60197143, 76.42772206, 88.58252132,\n",
       "       83.31489556, 68.5424482 , 82.1037962 , 77.38427779, 86.32619214,\n",
       "       77.88705146, 70.35811538, 81.8674181 , 81.53265796, 78.08013998])"
      ]
     },
     "execution_count": 9,
     "metadata": {},
     "output_type": "execute_result"
    }
   ],
   "source": [
    "x"
   ]
  },
  {
   "cell_type": "code",
   "execution_count": 10,
   "id": "ca533786",
   "metadata": {},
   "outputs": [
    {
     "data": {
      "text/plain": [
       "(array([ 4., 14., 18., 32., 33., 51., 24., 13.,  6.,  5.]),\n",
       " array([62.91783588, 66.58353856, 70.24924123, 73.91494391, 77.58064658,\n",
       "        81.24634926, 84.91205194, 88.57775461, 92.24345729, 95.90915996,\n",
       "        99.57486264]),\n",
       " <BarContainer object of 10 artists>)"
      ]
     },
     "execution_count": 10,
     "metadata": {},
     "output_type": "execute_result"
    },
    {
     "data": {
      "image/png": "[encoded data removed]",
      "text/plain": [
       "<Figure size 432x288 with 1 Axes>"
      ]
     },
     "metadata": {
      "needs_background": "light"
     },
     "output_type": "display_data"
    }
   ],
   "source": [
    "plt.hist(x)"
   ]
  },
  {
   "cell_type": "code",
   "execution_count": 11,
   "id": "22c24d5d",
   "metadata": {},
   "outputs": [
    {
     "data": {
      "text/plain": [
       "81.11856303709402"
      ]
     },
     "execution_count": 11,
     "metadata": {},
     "output_type": "execute_result"
    }
   ],
   "source": [
    "np.median(x)"
   ]
  },
  {
   "cell_type": "code",
   "execution_count": 12,
   "id": "edee65f2",
   "metadata": {},
   "outputs": [
    {
     "data": {
      "text/plain": [
       "80.48546557303631"
      ]
     },
     "execution_count": 12,
     "metadata": {},
     "output_type": "execute_result"
    }
   ],
   "source": [
    "np.mean(x)"
   ]
  },
  {
   "cell_type": "code",
   "execution_count": 13,
   "id": "cb52f119",
   "metadata": {},
   "outputs": [],
   "source": [
    "np.percentile?"
   ]
  },
  {
   "cell_type": "code",
   "execution_count": 14,
   "id": "6785b717",
   "metadata": {},
   "outputs": [
    {
     "data": {
      "text/plain": [
       "76.35752603967828"
      ]
     },
     "execution_count": 14,
     "metadata": {},
     "output_type": "execute_result"
    }
   ],
   "source": [
    "np.percentile(x, 25)"
   ]
  },
  {
   "cell_type": "code",
   "execution_count": 15,
   "id": "0699c6e2",
   "metadata": {},
   "outputs": [
    {
     "data": {
      "text/plain": [
       "84.59860681862398"
      ]
     },
     "execution_count": 15,
     "metadata": {},
     "output_type": "execute_result"
    }
   ],
   "source": [
    "np.percentile(x, 75)"
   ]
  },
  {
   "cell_type": "code",
   "execution_count": 18,
   "id": "f0d75536",
   "metadata": {},
   "outputs": [
    {
     "data": {
      "text/plain": [
       "(62.91783588357895, 99.5748626367209)"
      ]
     },
     "execution_count": 18,
     "metadata": {},
     "output_type": "execute_result"
    }
   ],
   "source": [
    "np.min(x), np.max(x)"
   ]
  },
  {
   "cell_type": "code",
   "execution_count": 20,
   "id": "999fd664",
   "metadata": {},
   "outputs": [],
   "source": [
    "xBox = [ np.min(x), np.percentile(x,25), np.median(x), np.percentile(x,75), np.max(x) ]\n",
    "#the makings of a fabulous box and whiskers plot"
   ]
  },
  {
   "cell_type": "code",
   "execution_count": 21,
   "id": "b3ad0a82",
   "metadata": {},
   "outputs": [
    {
     "data": {
      "text/plain": [
       "[62.91783588357895,\n",
       " 76.35752603967828,\n",
       " 81.11856303709402,\n",
       " 84.59860681862398,\n",
       " 99.5748626367209]"
      ]
     },
     "execution_count": 21,
     "metadata": {},
     "output_type": "execute_result"
    }
   ],
   "source": [
    "xBox"
   ]
  },
  {
   "cell_type": "code",
   "execution_count": 22,
   "id": "06b1f759",
   "metadata": {},
   "outputs": [],
   "source": [
    "import pandas as pd"
   ]
  },
  {
   "cell_type": "code",
   "execution_count": 23,
   "id": "95c0c2db",
   "metadata": {},
   "outputs": [
    {
     "data": {
      "text/plain": [
       "count    200.000000\n",
       "mean      80.485466\n",
       "std        7.108158\n",
       "min       62.917836\n",
       "25%       76.357526\n",
       "50%       81.118563\n",
       "75%       84.598607\n",
       "max       99.574863\n",
       "dtype: float64"
      ]
     },
     "execution_count": 23,
     "metadata": {},
     "output_type": "execute_result"
    }
   ],
   "source": [
    "pd.Series(x).describe()"
   ]
  },
  {
   "cell_type": "code",
   "execution_count": 24,
   "id": "640f37ef",
   "metadata": {},
   "outputs": [
    {
     "data": {
      "text/plain": [
       "{'whiskers': [<matplotlib.lines.Line2D at 0x7fc299bf7a90>,\n",
       "  <matplotlib.lines.Line2D at 0x7fc299bf7df0>],\n",
       " 'caps': [<matplotlib.lines.Line2D at 0x7fc299c09190>,\n",
       "  <matplotlib.lines.Line2D at 0x7fc299c094f0>],\n",
       " 'boxes': [<matplotlib.lines.Line2D at 0x7fc299bf7730>],\n",
       " 'medians': [<matplotlib.lines.Line2D at 0x7fc299c09850>],\n",
       " 'fliers': [<matplotlib.lines.Line2D at 0x7fc299c09bb0>],\n",
       " 'means': []}"
      ]
     },
     "execution_count": 24,
     "metadata": {},
     "output_type": "execute_result"
    },
    {
     "data": {
      "image/png": "[encoded data removed]",
      "text/plain": [
       "<Figure size 432x288 with 1 Axes>"
      ]
     },
     "metadata": {
      "needs_background": "light"
     },
     "output_type": "display_data"
    }
   ],
   "source": [
    "plt.boxplot(x)"
   ]
  },
  {
   "cell_type": "code",
   "execution_count": 25,
   "id": "c7fa298f",
   "metadata": {},
   "outputs": [],
   "source": [
    "plt.boxplot?"
   ]
  },
  {
   "cell_type": "code",
   "execution_count": 26,
   "id": "82b63144",
   "metadata": {},
   "outputs": [],
   "source": [
    "import seaborn"
   ]
  },
  {
   "cell_type": "code",
   "execution_count": 27,
   "id": "38b2751a",
   "metadata": {},
   "outputs": [
    {
     "name": "stderr",
     "output_type": "stream",
     "text": [
      "/Users/Kaija/opt/anaconda3/lib/python3.8/site-packages/seaborn/_decorators.py:36: FutureWarning: Pass the following variable as a keyword arg: x. From version 0.12, the only valid positional argument will be `data`, and passing other arguments without an explicit keyword will result in an error or misinterpretation.\n",
      "  warnings.warn(\n"
     ]
    },
    {
     "data": {
      "text/plain": [
       "<AxesSubplot:>"
      ]
     },
     "execution_count": 27,
     "metadata": {},
     "output_type": "execute_result"
    },
    {
     "data": {
      "image/png": "[encoded data removed]",
      "text/plain": [
       "<Figure size 432x288 with 1 Axes>"
      ]
     },
     "metadata": {
      "needs_background": "light"
     },
     "output_type": "display_data"
    }
   ],
   "source": [
    "seaborn.boxplot(x)"
   ]
  },
  {
   "cell_type": "code",
   "execution_count": 35,
   "id": "271b5ef4",
   "metadata": {},
   "outputs": [],
   "source": [
    "seaborn.boxplot?"
   ]
  },
  {
   "cell_type": "code",
   "execution_count": 37,
   "id": "e925b0ca",
   "metadata": {},
   "outputs": [
    {
     "name": "stderr",
     "output_type": "stream",
     "text": [
      "/Users/Kaija/opt/anaconda3/lib/python3.8/site-packages/seaborn/_decorators.py:36: FutureWarning: Pass the following variable as a keyword arg: x. From version 0.12, the only valid positional argument will be `data`, and passing other arguments without an explicit keyword will result in an error or misinterpretation.\n",
      "  warnings.warn(\n"
     ]
    },
    {
     "data": {
      "image/png": "[encoded data removed]",
      "text/plain": [
       "<Figure size 432x288 with 1 Axes>"
      ]
     },
     "metadata": {
      "needs_background": "light"
     },
     "output_type": "display_data"
    }
   ],
   "source": [
    "goodplot = seaborn.boxplot(x)"
   ]
  },
  {
   "cell_type": "code",
   "execution_count": null,
   "id": "baf9a31b",
   "metadata": {},
   "outputs": [],
   "source": []
  },
  {
   "cell_type": "code",
   "execution_count": null,
   "id": "e1054f2b",
   "metadata": {},
   "outputs": [],
   "source": []
  }
 ],
 "metadata": {
  "kernelspec": {
   "display_name": "Python 3",
   "language": "python",
   "name": "python3"
  },
  "language_info": {
   "codemirror_mode": {
    "name": "ipython",
    "version": 3
   },
   "file_extension": ".py",
   "mimetype": "text/x-python",
   "name": "python",
   "nbconvert_exporter": "python",
   "pygments_lexer": "ipython3",
   "version": "3.8.8"
  }
 },
 "nbformat": 4,
 "nbformat_minor": 5
}
