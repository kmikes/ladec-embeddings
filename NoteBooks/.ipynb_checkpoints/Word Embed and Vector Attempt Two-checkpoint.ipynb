{
 "cells": [
  {
   "cell_type": "code",
   "execution_count": 2,
   "id": "6fa08b91",
   "metadata": {},
   "outputs": [],
   "source": [
    "import numpy as np\n",
    "from scipy import spatial\n",
    "import matplotlib.pyplot as plt\n",
    "from sklearn.manifold import TSNE\n",
    "\n",
    "import pandas as pd\n",
    "from scipy.spatial import distance"
   ]
  },
  {
   "cell_type": "code",
   "execution_count": 3,
   "id": "946980c0",
   "metadata": {},
   "outputs": [],
   "source": [
    "glove = pd.read_csv(\"data/glove.6B.50d.txt\", delimiter=' ', header=None, quoting=3)\n",
    "ladec = pd.read_csv(\"data/ladec.csv\")"
   ]
  },
  {
   "cell_type": "code",
   "execution_count": 4,
   "id": "13db3f32",
   "metadata": {},
   "outputs": [],
   "source": [
    "def getv(name):\n",
    "    word = glove[glove[0]==name]\n",
    "    return np.array( word.values[0][1:] )"
   ]
  },
  {
   "cell_type": "code",
   "execution_count": 5,
   "id": "0e877c4f",
   "metadata": {},
   "outputs": [
    {
     "data": {
      "text/html": [
       "<div>\n",
       "<style scoped>\n",
       "    .dataframe tbody tr th:only-of-type {\n",
       "        vertical-align: middle;\n",
       "    }\n",
       "\n",
       "    .dataframe tbody tr th {\n",
       "        vertical-align: top;\n",
       "    }\n",
       "\n",
       "    .dataframe thead th {\n",
       "        text-align: right;\n",
       "    }\n",
       "</style>\n",
       "<table border=\"1\" class=\"dataframe\">\n",
       "  <thead>\n",
       "    <tr style=\"text-align: right;\">\n",
       "      <th></th>\n",
       "      <th>id_master</th>\n",
       "      <th>c1</th>\n",
       "      <th>c2</th>\n",
       "      <th>stim</th>\n",
       "      <th>obs</th>\n",
       "      <th>obsc1</th>\n",
       "      <th>obsc2</th>\n",
       "      <th>stimlen</th>\n",
       "      <th>c1len</th>\n",
       "      <th>c2len</th>\n",
       "      <th>...</th>\n",
       "      <th>Juhasz_tran</th>\n",
       "      <th>st_c1_mean</th>\n",
       "      <th>st_c2_mean</th>\n",
       "      <th>Zipfvalue</th>\n",
       "      <th>c1_SLlg10wf</th>\n",
       "      <th>c2_SLlg10wf</th>\n",
       "      <th>c1_BLPbncfrequency</th>\n",
       "      <th>c1_BLPbncfrequencymillion</th>\n",
       "      <th>c2_BLPbncfrequency</th>\n",
       "      <th>c2_BLPbncfrequencymillion</th>\n",
       "    </tr>\n",
       "  </thead>\n",
       "  <tbody>\n",
       "    <tr>\n",
       "      <th>0</th>\n",
       "      <td>3237</td>\n",
       "      <td>gad</td>\n",
       "      <td>about</td>\n",
       "      <td>gadabout</td>\n",
       "      <td>1</td>\n",
       "      <td>4</td>\n",
       "      <td>3</td>\n",
       "      <td>8</td>\n",
       "      <td>3</td>\n",
       "      <td>5</td>\n",
       "      <td>...</td>\n",
       "      <td>NaN</td>\n",
       "      <td>NaN</td>\n",
       "      <td>NaN</td>\n",
       "      <td>1.768955</td>\n",
       "      <td>1.4314</td>\n",
       "      <td>5.2677</td>\n",
       "      <td>28.0</td>\n",
       "      <td>0.280000</td>\n",
       "      <td>197116.0</td>\n",
       "      <td>1971.16</td>\n",
       "    </tr>\n",
       "    <tr>\n",
       "      <th>1</th>\n",
       "      <td>4592</td>\n",
       "      <td>knock</td>\n",
       "      <td>about</td>\n",
       "      <td>knockabout</td>\n",
       "      <td>1</td>\n",
       "      <td>3</td>\n",
       "      <td>4</td>\n",
       "      <td>10</td>\n",
       "      <td>5</td>\n",
       "      <td>5</td>\n",
       "      <td>...</td>\n",
       "      <td>NaN</td>\n",
       "      <td>NaN</td>\n",
       "      <td>NaN</td>\n",
       "      <td>1.592864</td>\n",
       "      <td>3.5185</td>\n",
       "      <td>5.2677</td>\n",
       "      <td>1975.0</td>\n",
       "      <td>19.750000</td>\n",
       "      <td>197116.0</td>\n",
       "      <td>1971.16</td>\n",
       "    </tr>\n",
       "    <tr>\n",
       "      <th>2</th>\n",
       "      <td>8231</td>\n",
       "      <td>turn</td>\n",
       "      <td>about</td>\n",
       "      <td>turnabout</td>\n",
       "      <td>1</td>\n",
       "      <td>19</td>\n",
       "      <td>7</td>\n",
       "      <td>9</td>\n",
       "      <td>4</td>\n",
       "      <td>5</td>\n",
       "      <td>...</td>\n",
       "      <td>NaN</td>\n",
       "      <td>4.452</td>\n",
       "      <td>2.813</td>\n",
       "      <td>2.333227</td>\n",
       "      <td>4.1940</td>\n",
       "      <td>5.2677</td>\n",
       "      <td>21026.0</td>\n",
       "      <td>210.259990</td>\n",
       "      <td>197116.0</td>\n",
       "      <td>1971.16</td>\n",
       "    </tr>\n",
       "    <tr>\n",
       "      <th>3</th>\n",
       "      <td>6139</td>\n",
       "      <td>race</td>\n",
       "      <td>about</td>\n",
       "      <td>raceabout</td>\n",
       "      <td>1</td>\n",
       "      <td>4</td>\n",
       "      <td>1</td>\n",
       "      <td>9</td>\n",
       "      <td>4</td>\n",
       "      <td>5</td>\n",
       "      <td>...</td>\n",
       "      <td>NaN</td>\n",
       "      <td>NaN</td>\n",
       "      <td>NaN</td>\n",
       "      <td>NaN</td>\n",
       "      <td>3.4994</td>\n",
       "      <td>5.2677</td>\n",
       "      <td>7959.0</td>\n",
       "      <td>79.589996</td>\n",
       "      <td>197116.0</td>\n",
       "      <td>1971.16</td>\n",
       "    </tr>\n",
       "    <tr>\n",
       "      <th>4</th>\n",
       "      <td>8331</td>\n",
       "      <td>walk</td>\n",
       "      <td>about</td>\n",
       "      <td>walkabout</td>\n",
       "      <td>1</td>\n",
       "      <td>2</td>\n",
       "      <td>5</td>\n",
       "      <td>9</td>\n",
       "      <td>4</td>\n",
       "      <td>5</td>\n",
       "      <td>...</td>\n",
       "      <td>NaN</td>\n",
       "      <td>4.594</td>\n",
       "      <td>2.733</td>\n",
       "      <td>2.246077</td>\n",
       "      <td>4.0418</td>\n",
       "      <td>5.2677</td>\n",
       "      <td>10441.0</td>\n",
       "      <td>104.410000</td>\n",
       "      <td>197116.0</td>\n",
       "      <td>1971.16</td>\n",
       "    </tr>\n",
       "  </tbody>\n",
       "</table>\n",
       "<p>5 rows × 84 columns</p>\n",
       "</div>"
      ],
      "text/plain": [
       "   id_master     c1     c2        stim  obs  obsc1  obsc2  stimlen  c1len  \\\n",
       "0       3237    gad  about    gadabout    1      4      3        8      3   \n",
       "1       4592  knock  about  knockabout    1      3      4       10      5   \n",
       "2       8231   turn  about   turnabout    1     19      7        9      4   \n",
       "3       6139   race  about   raceabout    1      4      1        9      4   \n",
       "4       8331   walk  about   walkabout    1      2      5        9      4   \n",
       "\n",
       "   c2len  ...  Juhasz_tran st_c1_mean  st_c2_mean  Zipfvalue  c1_SLlg10wf  \\\n",
       "0      5  ...          NaN        NaN         NaN   1.768955       1.4314   \n",
       "1      5  ...          NaN        NaN         NaN   1.592864       3.5185   \n",
       "2      5  ...          NaN      4.452       2.813   2.333227       4.1940   \n",
       "3      5  ...          NaN        NaN         NaN        NaN       3.4994   \n",
       "4      5  ...          NaN      4.594       2.733   2.246077       4.0418   \n",
       "\n",
       "   c2_SLlg10wf  c1_BLPbncfrequency  c1_BLPbncfrequencymillion  \\\n",
       "0       5.2677                28.0                   0.280000   \n",
       "1       5.2677              1975.0                  19.750000   \n",
       "2       5.2677             21026.0                 210.259990   \n",
       "3       5.2677              7959.0                  79.589996   \n",
       "4       5.2677             10441.0                 104.410000   \n",
       "\n",
       "   c2_BLPbncfrequency  c2_BLPbncfrequencymillion  \n",
       "0            197116.0                    1971.16  \n",
       "1            197116.0                    1971.16  \n",
       "2            197116.0                    1971.16  \n",
       "3            197116.0                    1971.16  \n",
       "4            197116.0                    1971.16  \n",
       "\n",
       "[5 rows x 84 columns]"
      ]
     },
     "execution_count": 5,
     "metadata": {},
     "output_type": "execute_result"
    }
   ],
   "source": [
    "ladec.head()"
   ]
  },
  {
   "cell_type": "code",
   "execution_count": 33,
   "id": "824cb9b4",
   "metadata": {},
   "outputs": [],
   "source": [
    "cOne = ladec['c1'].to_numpy(dtype = 'str')\n",
    "cTwo = ladec['c2'].to_numpy(dtype = 'str')\n",
    "cmp = ladec['stim'].to_numpy(dtype = 'str')"
   ]
  },
  {
   "cell_type": "code",
   "execution_count": 34,
   "id": "e450da4e",
   "metadata": {},
   "outputs": [
    {
     "data": {
      "text/plain": [
       "array(['gad', 'knock', 'turn', ..., 'farm', 'brick', 'zig'], dtype='<U10')"
      ]
     },
     "execution_count": 34,
     "metadata": {},
     "output_type": "execute_result"
    }
   ],
   "source": [
    "cOne"
   ]
  },
  {
   "cell_type": "code",
   "execution_count": 35,
   "id": "22b49461",
   "metadata": {},
   "outputs": [
    {
     "data": {
      "text/plain": [
       "'gad'"
      ]
     },
     "execution_count": 35,
     "metadata": {},
     "output_type": "execute_result"
    }
   ],
   "source": [
    "#Parallel to cOne, cTwo, and cmp; at each index the Vec array contains the word embedding data from glove\n",
    "\n",
    "gad = cOne[0]\n",
    "gad"
   ]
  },
  {
   "cell_type": "code",
   "execution_count": 36,
   "id": "8aee7188",
   "metadata": {},
   "outputs": [
    {
     "data": {
      "text/plain": [
       "array([-0.28186, 0.76122, 0.31124, -0.056947, -0.16125, -0.84541, 0.21271,\n",
       "       -1.1618, 0.66181, 1.2302, 0.78864, 0.83112, -0.70775, 0.22583,\n",
       "       -0.7578, 1.221, 0.69907, -0.81823, 0.19546, 1.8109, -0.71717,\n",
       "       0.87639, 0.68515, -0.10325, -0.12523, 0.1229, 0.056091, -0.18191,\n",
       "       0.036424, 0.43651, -0.5549, 0.35513, 0.26945, 0.58567, 0.6719,\n",
       "       -0.52472, 0.59862, -0.47292, 0.33516, 1.8675, 0.079179, 1.2164,\n",
       "       -0.23826, 0.0051595, 0.44026, -0.63698, -0.24248, -0.38488,\n",
       "       0.11777, 0.2475], dtype=object)"
      ]
     },
     "execution_count": 36,
     "metadata": {},
     "output_type": "execute_result"
    }
   ],
   "source": [
    "gadv = getv( gad )\n",
    "gadv"
   ]
  },
  {
   "cell_type": "code",
   "execution_count": null,
   "id": "a2172c13",
   "metadata": {},
   "outputs": [],
   "source": []
  }
 ],
 "metadata": {
  "kernelspec": {
   "display_name": "Python 3",
   "language": "python",
   "name": "python3"
  },
  "language_info": {
   "codemirror_mode": {
    "name": "ipython",
    "version": 3
   },
   "file_extension": ".py",
   "mimetype": "text/x-python",
   "name": "python",
   "nbconvert_exporter": "python",
   "pygments_lexer": "ipython3",
   "version": "3.8.8"
  }
 },
 "nbformat": 4,
 "nbformat_minor": 5
}
